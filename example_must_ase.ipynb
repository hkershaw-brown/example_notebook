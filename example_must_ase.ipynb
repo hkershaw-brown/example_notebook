{
 "cells": [
  {
   "cell_type": "markdown",
   "metadata": {},
   "source": [
    "# Example notebook for MuST-ASE\n",
    "modifed from a Demo example by Amish Chovatiya"
   ]
  },
  {
   "cell_type": "code",
   "execution_count": null,
   "metadata": {},
   "outputs": [],
   "source": [
    "# Import the required python packages \n",
    "from ase.calculators.must import MuST, generate_starting_potentials\n",
    "from ase.build import bulk\n",
    "import os"
   ]
  },
  {
   "cell_type": "code",
   "execution_count": null,
   "metadata": {},
   "outputs": [],
   "source": [
    "# Make a directory for the example\n",
    "!mkdir Al_exmple\n",
    "# move into the Al_example directory\n",
    "os.chdir('Al')"
   ]
  },
  {
   "cell_type": "markdown",
   "metadata": {},
   "source": [
    "## Short introduction to atoms object in ASE"
   ]
  },
  {
   "cell_type": "code",
   "execution_count": null,
   "metadata": {},
   "outputs": [],
   "source": [
    "#Create atoms object\n",
    "atoms = bulk('Al', a=4.05, cubic = True)\n",
    "\n",
    "atoms"
   ]
  },
  {
   "cell_type": "markdown",
   "metadata": {},
   "source": [
    "Each atom can be accessed with its index:"
   ]
  },
  {
   "cell_type": "code",
   "execution_count": null,
   "metadata": {},
   "outputs": [],
   "source": [
    "print(atoms[0])\n",
    "print(atoms[1])\n",
    "print(atoms[2])\n",
    "print(atoms[3])"
   ]
  },
  {
   "cell_type": "markdown",
   "metadata": {},
   "source": [
    "## KKR calculation on a primitive Aluminum unit cell:"
   ]
  },
  {
   "cell_type": "code",
   "execution_count": null,
   "metadata": {},
   "outputs": [],
   "source": [
    "# Making a primitive unit cell\n",
    "atoms = bulk('Al', a=4.05, cubic=False)\n",
    "atoms"
   ]
  },
  {
   "cell_type": "code",
   "execution_count": null,
   "metadata": {},
   "outputs": [],
   "source": [
    "# Generate starting potentials (Generates Al_ss_pot)\n",
    "generate_starting_potentials(atoms, crystal_type=1, a=4.05)"
   ]
  },
  {
   "cell_type": "code",
   "execution_count": null,
   "metadata": {},
   "outputs": [],
   "source": [
    "# Create a MuST calculator object\n",
    "calc = MuST(default_in_pot='Al_ss_pot', # Starting potential file name\n",
    "           default_out_pot='Al',        # Output potential file name\n",
    "           pot_in_form=0,               # Starting potential file format\n",
    "           pot_out_form=0,              # Output potentials file format\n",
    "           nscf=50,                     # No. of SCF iterations\n",
    "           method=2,                    # Method of calculation (2=KKR)\n",
    "           potential_type=0,            # Potential type (0=Muffin tin)\n",
    "           xc='GGA_X_PBE_SOL+GGA_C_PBE_SOL', # XC functional\n",
    "           spin=1,                      # Number of spins \n",
    "           kpts=(12,12,12),             # K-points grid\n",
    "           bzsym=1)                     # Symmetrize BZ Integration"
   ]
  },
  {
   "cell_type": "code",
   "execution_count": null,
   "metadata": {},
   "outputs": [],
   "source": [
    "# Attach calculator to the atoms object\n",
    "atoms.set_calculator(calc)\n",
    "\n",
    "# Trigger KKR calculation using .get_potential_energy()\n",
    "energy = atoms.get_potential_energy()"
   ]
  },
  {
   "cell_type": "code",
   "execution_count": null,
   "metadata": {},
   "outputs": [],
   "source": [
    "# Print total energy (eV)\n",
    "print(energy)"
   ]
  },
  {
   "cell_type": "markdown",
   "metadata": {},
   "source": [
    "The list of keywords for all parameters in MuST calculator can be found here: https://gitlab.com/amishc/ase/-/blob/mst/ase/io/must/default_params.py . Parameters used for generate_starting_potentials can be found in the docstring of that function here: https://gitlab.com/amishc/ase/-/blob/mst/ase/calculators/must.py"
   ]
  }
 ],
 "metadata": {
  "kernelspec": {
   "display_name": "Python 3",
   "language": "python",
   "name": "python3"
  },
  "language_info": {
   "codemirror_mode": {
    "name": "ipython",
    "version": 3
   },
   "file_extension": ".py",
   "mimetype": "text/x-python",
   "name": "python",
   "nbconvert_exporter": "python",
   "pygments_lexer": "ipython3",
   "version": "3.8.0"
  }
 },
 "nbformat": 4,
 "nbformat_minor": 4
}
